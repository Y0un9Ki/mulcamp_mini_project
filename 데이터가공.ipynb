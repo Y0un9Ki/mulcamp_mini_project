{
 "cells": [
  {
   "cell_type": "code",
   "execution_count": 1,
   "id": "045bec8d-427b-4ab5-a849-7290e11446d9",
   "metadata": {
    "tags": []
   },
   "outputs": [],
   "source": [
    "import pandas as pd"
   ]
  },
  {
   "cell_type": "code",
   "execution_count": 2,
   "id": "0c29317b-0238-462b-b30f-952ca04056aa",
   "metadata": {
    "tags": []
   },
   "outputs": [],
   "source": [
    "df_김포단독다가구=pd.read_csv('data/김포단독다가구(매매)_실거래가_20240204151241.csv')\n",
    "df_김포아파트=pd.read_csv('data/김포아파트(매매)__실거래가_20240204151054.csv')\n",
    "df_김포연립다세대=pd.read_csv('data/김포연립다세대(매매)__실거래가_20240204151231.csv')\n",
    "df_김포오피스텔=pd.read_csv('data/김포오피스텔(매매)__실거래가_20240204151246.csv')"
   ]
  },
  {
   "cell_type": "code",
   "execution_count": 3,
   "id": "5b8be4ed-6a9a-4e9e-a2a5-13609b727e3a",
   "metadata": {
    "tags": []
   },
   "outputs": [],
   "source": [
    "df_김포_전처리전=pd.concat([df_김포단독다가구.assign(건물용도='단독다가구'),df_김포아파트.assign(건물용도='아파트'),df_김포연립다세대.assign(건물용도='연립다세대'),df_김포오피스텔.assign(건물용도='오피스텔')])"
   ]
  },
  {
   "cell_type": "code",
   "execution_count": 4,
   "id": "3f1f74b4-75f8-4bda-bcdc-aca39e4fd27a",
   "metadata": {
    "tags": []
   },
   "outputs": [],
   "source": [
    "df_김포_전처리전=df_김포_전처리전.sort_values(by='계약년월',ascending=True, ignore_index=True)"
   ]
  },
  {
   "cell_type": "markdown",
   "id": "cb5e896f-b517-45bf-aad0-bbf0cec1e9f2",
   "metadata": {},
   "source": [
    "# 김포시 시군구 바꾸기\n",
    "- 시군구가 경기도 김포시 통진읍 ... 세세하게 나눠져 있었지만 이것을 편하게 하기 위해 동이나 읍으로 바꿨다."
   ]
  },
  {
   "cell_type": "code",
   "execution_count": 5,
   "id": "22d35f62-977b-4f98-a903-73aef3e7ff2c",
   "metadata": {
    "tags": []
   },
   "outputs": [],
   "source": [
    "df_copy=df_김포_전처리전['시군구'].copy()\n",
    "for i in df_copy.unique():\n",
    "    df_김포_전처리전=df_김포_전처리전.replace({i : i[8:11]})"
   ]
  },
  {
   "cell_type": "code",
   "execution_count": 6,
   "id": "c7f48eb1-110b-431c-8155-a80f788e006e",
   "metadata": {
    "tags": []
   },
   "outputs": [
    {
     "data": {
      "text/plain": [
       "시군구\n",
       "장기동    607\n",
       "풍무동    551\n",
       "운양동    431\n",
       "구래동    373\n",
       "고촌읍    359\n",
       "통진읍    253\n",
       "마산동    211\n",
       "감정동    167\n",
       "양촌읍    163\n",
       "사우동    142\n",
       "걸포동    130\n",
       "북변동    120\n",
       "대곶면     38\n",
       "하성면     37\n",
       "월곶면     34\n",
       "Name: count, dtype: int64"
      ]
     },
     "execution_count": 6,
     "metadata": {},
     "output_type": "execute_result"
    }
   ],
   "source": [
    "df_김포_전처리전['시군구'].value_counts()"
   ]
  },
  {
   "cell_type": "markdown",
   "id": "7e1e1da5-89bd-41c5-9e53-a8509cc60f35",
   "metadata": {},
   "source": [
    "## 메가서울 발표전과 발표후는 밑에 코드를 참조하자"
   ]
  },
  {
   "cell_type": "code",
   "execution_count": 7,
   "id": "fe839f83-7363-47f0-a634-7c038352510c",
   "metadata": {
    "tags": []
   },
   "outputs": [],
   "source": [
    "df_김포_발표후=df_김포_전처리전.loc[df_김포_전처리전['계약년월']>=202310, :]"
   ]
  },
  {
   "cell_type": "code",
   "execution_count": 8,
   "id": "8ec0a14c-52fe-4110-9ba8-6623a1376b21",
   "metadata": {
    "tags": []
   },
   "outputs": [],
   "source": [
    "df_김포_발표전=df_김포_전처리전.loc[(df_김포_전처리전['계약년월']<202310) & (df_김포_전처리전['계약년월']>=202306), :]"
   ]
  },
  {
   "cell_type": "markdown",
   "id": "a58f37cd-e2b3-4c5e-9b2d-31ea8b380f58",
   "metadata": {},
   "source": [
    "## .assign(칼럼 = '칼럼에 들어갈 value')함수를 통해 새로운 칼럼을 만들고 칼럼값들을 넣어줄수 있다."
   ]
  },
  {
   "cell_type": "code",
   "execution_count": 9,
   "id": "ff814b68-cd6c-4f6c-b486-754e4dec79e1",
   "metadata": {
    "tags": []
   },
   "outputs": [],
   "source": [
    "df_김포_발표전=df_김포_발표전.assign(발표='발표전').sort_values(by='계약년월', ascending=True, ignore_index=True)"
   ]
  },
  {
   "cell_type": "code",
   "execution_count": 10,
   "id": "63e4b4b3-3f27-4bf6-9d3a-17508ad61af8",
   "metadata": {
    "tags": []
   },
   "outputs": [],
   "source": [
    "df_김포_발표후=df_김포_발표후.assign(발표='발표후').sort_values(by='계약년월', ascending=True, ignore_index=True)"
   ]
  },
  {
   "cell_type": "code",
   "execution_count": 11,
   "id": "6dabf5b6-5614-4a95-b175-85197b0edc47",
   "metadata": {
    "tags": []
   },
   "outputs": [],
   "source": [
    "df_김포=pd.concat([df_김포_발표전,df_김포_발표후]).sort_values(by=['계약년월', '계약일'], ascending=True, ignore_index=True)"
   ]
  },
  {
   "cell_type": "markdown",
   "id": "f6932e4b-cf70-4525-af9b-fe1e5b7194e2",
   "metadata": {},
   "source": [
    "## str.replace 함수\n",
    "- str.replace 함수는 replace 함수와 다르게, 찾으려는 문자열 일부만 있더라도 데이터를 변경하는 특징이 있다."
   ]
  },
  {
   "cell_type": "code",
   "execution_count": 12,
   "id": "9d6e8316-03b3-4233-b90b-cf2720ac2ef0",
   "metadata": {
    "tags": []
   },
   "outputs": [],
   "source": [
    "df_김포['거래금액(만원)']=df_김포['거래금액(만원)'].str.replace(',' , '')"
   ]
  },
  {
   "cell_type": "code",
   "execution_count": 13,
   "id": "32b1b793-6e64-458e-a44f-92dd3b4ec532",
   "metadata": {
    "tags": []
   },
   "outputs": [
    {
     "data": {
      "text/html": [
       "<div>\n",
       "<style scoped>\n",
       "    .dataframe tbody tr th:only-of-type {\n",
       "        vertical-align: middle;\n",
       "    }\n",
       "\n",
       "    .dataframe tbody tr th {\n",
       "        vertical-align: top;\n",
       "    }\n",
       "\n",
       "    .dataframe thead th {\n",
       "        text-align: right;\n",
       "    }\n",
       "</style>\n",
       "<table border=\"1\" class=\"dataframe\">\n",
       "  <thead>\n",
       "    <tr style=\"text-align: right;\">\n",
       "      <th></th>\n",
       "      <th>시군구</th>\n",
       "      <th>번지</th>\n",
       "      <th>주택유형</th>\n",
       "      <th>도로조건</th>\n",
       "      <th>연면적(㎡)</th>\n",
       "      <th>대지면적(㎡)</th>\n",
       "      <th>계약년월</th>\n",
       "      <th>계약일</th>\n",
       "      <th>거래금액(만원)</th>\n",
       "      <th>건축년도</th>\n",
       "      <th>...</th>\n",
       "      <th>부번</th>\n",
       "      <th>단지명</th>\n",
       "      <th>전용면적(㎡)</th>\n",
       "      <th>층</th>\n",
       "      <th>등기신청일자</th>\n",
       "      <th>거래유형</th>\n",
       "      <th>중개사소재지</th>\n",
       "      <th>건물명</th>\n",
       "      <th>대지권면적(㎡)</th>\n",
       "      <th>발표</th>\n",
       "    </tr>\n",
       "  </thead>\n",
       "  <tbody>\n",
       "    <tr>\n",
       "      <th>0</th>\n",
       "      <td>장기동</td>\n",
       "      <td>1342</td>\n",
       "      <td>NaN</td>\n",
       "      <td>NaN</td>\n",
       "      <td>NaN</td>\n",
       "      <td>NaN</td>\n",
       "      <td>202306</td>\n",
       "      <td>1</td>\n",
       "      <td>38000</td>\n",
       "      <td>2001.0</td>\n",
       "      <td>...</td>\n",
       "      <td>0.0</td>\n",
       "      <td>청송마을(현대2)</td>\n",
       "      <td>114.1920</td>\n",
       "      <td>4.0</td>\n",
       "      <td>20230602</td>\n",
       "      <td>중개거래</td>\n",
       "      <td>경기 김포시</td>\n",
       "      <td>NaN</td>\n",
       "      <td>NaN</td>\n",
       "      <td>발표전</td>\n",
       "    </tr>\n",
       "    <tr>\n",
       "      <th>1</th>\n",
       "      <td>풍무동</td>\n",
       "      <td>795</td>\n",
       "      <td>NaN</td>\n",
       "      <td>NaN</td>\n",
       "      <td>NaN</td>\n",
       "      <td>NaN</td>\n",
       "      <td>202306</td>\n",
       "      <td>1</td>\n",
       "      <td>44000</td>\n",
       "      <td>2018.0</td>\n",
       "      <td>...</td>\n",
       "      <td>0.0</td>\n",
       "      <td>김포풍무꿈에그린더포레듀3단지</td>\n",
       "      <td>74.9960</td>\n",
       "      <td>18.0</td>\n",
       "      <td>20230818</td>\n",
       "      <td>중개거래</td>\n",
       "      <td>경기 김포시</td>\n",
       "      <td>NaN</td>\n",
       "      <td>NaN</td>\n",
       "      <td>발표전</td>\n",
       "    </tr>\n",
       "    <tr>\n",
       "      <th>2</th>\n",
       "      <td>장기동</td>\n",
       "      <td>25.Mar</td>\n",
       "      <td>NaN</td>\n",
       "      <td>NaN</td>\n",
       "      <td>NaN</td>\n",
       "      <td>NaN</td>\n",
       "      <td>202306</td>\n",
       "      <td>1</td>\n",
       "      <td>9500</td>\n",
       "      <td>2018.0</td>\n",
       "      <td>...</td>\n",
       "      <td>3.0</td>\n",
       "      <td>(2025-3)</td>\n",
       "      <td>19.8400</td>\n",
       "      <td>6.0</td>\n",
       "      <td>NaN</td>\n",
       "      <td>중개거래</td>\n",
       "      <td>경기 김포시</td>\n",
       "      <td>NaN</td>\n",
       "      <td>NaN</td>\n",
       "      <td>발표전</td>\n",
       "    </tr>\n",
       "    <tr>\n",
       "      <th>3</th>\n",
       "      <td>장기동</td>\n",
       "      <td>1635</td>\n",
       "      <td>NaN</td>\n",
       "      <td>NaN</td>\n",
       "      <td>NaN</td>\n",
       "      <td>NaN</td>\n",
       "      <td>202306</td>\n",
       "      <td>1</td>\n",
       "      <td>41000</td>\n",
       "      <td>2008.0</td>\n",
       "      <td>...</td>\n",
       "      <td>0.0</td>\n",
       "      <td>고창마을(이니스더원)</td>\n",
       "      <td>112.0079</td>\n",
       "      <td>10.0</td>\n",
       "      <td>20230627</td>\n",
       "      <td>중개거래</td>\n",
       "      <td>경기 김포시</td>\n",
       "      <td>NaN</td>\n",
       "      <td>NaN</td>\n",
       "      <td>발표전</td>\n",
       "    </tr>\n",
       "    <tr>\n",
       "      <th>4</th>\n",
       "      <td>감정동</td>\n",
       "      <td>706</td>\n",
       "      <td>NaN</td>\n",
       "      <td>NaN</td>\n",
       "      <td>NaN</td>\n",
       "      <td>NaN</td>\n",
       "      <td>202306</td>\n",
       "      <td>1</td>\n",
       "      <td>28700</td>\n",
       "      <td>2022.0</td>\n",
       "      <td>...</td>\n",
       "      <td>0.0</td>\n",
       "      <td>김포센트럴헤센2단지</td>\n",
       "      <td>59.9919</td>\n",
       "      <td>17.0</td>\n",
       "      <td>20230717</td>\n",
       "      <td>중개거래</td>\n",
       "      <td>경기 김포시</td>\n",
       "      <td>NaN</td>\n",
       "      <td>NaN</td>\n",
       "      <td>발표전</td>\n",
       "    </tr>\n",
       "    <tr>\n",
       "      <th>...</th>\n",
       "      <td>...</td>\n",
       "      <td>...</td>\n",
       "      <td>...</td>\n",
       "      <td>...</td>\n",
       "      <td>...</td>\n",
       "      <td>...</td>\n",
       "      <td>...</td>\n",
       "      <td>...</td>\n",
       "      <td>...</td>\n",
       "      <td>...</td>\n",
       "      <td>...</td>\n",
       "      <td>...</td>\n",
       "      <td>...</td>\n",
       "      <td>...</td>\n",
       "      <td>...</td>\n",
       "      <td>...</td>\n",
       "      <td>...</td>\n",
       "      <td>...</td>\n",
       "      <td>...</td>\n",
       "      <td>...</td>\n",
       "      <td>...</td>\n",
       "    </tr>\n",
       "    <tr>\n",
       "      <th>3611</th>\n",
       "      <td>양촌읍</td>\n",
       "      <td>1268</td>\n",
       "      <td>NaN</td>\n",
       "      <td>NaN</td>\n",
       "      <td>NaN</td>\n",
       "      <td>NaN</td>\n",
       "      <td>202401</td>\n",
       "      <td>30</td>\n",
       "      <td>38500</td>\n",
       "      <td>2020.0</td>\n",
       "      <td>...</td>\n",
       "      <td>0.0</td>\n",
       "      <td>한강금호어울림1단지</td>\n",
       "      <td>84.9416</td>\n",
       "      <td>12.0</td>\n",
       "      <td></td>\n",
       "      <td>중개거래</td>\n",
       "      <td>경기 김포시</td>\n",
       "      <td>NaN</td>\n",
       "      <td>NaN</td>\n",
       "      <td>발표후</td>\n",
       "    </tr>\n",
       "    <tr>\n",
       "      <th>3612</th>\n",
       "      <td>고촌읍</td>\n",
       "      <td>1284</td>\n",
       "      <td>NaN</td>\n",
       "      <td>NaN</td>\n",
       "      <td>NaN</td>\n",
       "      <td>NaN</td>\n",
       "      <td>202401</td>\n",
       "      <td>30</td>\n",
       "      <td>73500</td>\n",
       "      <td>2014.0</td>\n",
       "      <td>...</td>\n",
       "      <td>0.0</td>\n",
       "      <td>김포고촌우방아이유쉘</td>\n",
       "      <td>149.0920</td>\n",
       "      <td>14.0</td>\n",
       "      <td></td>\n",
       "      <td>중개거래</td>\n",
       "      <td>경기 김포시</td>\n",
       "      <td>NaN</td>\n",
       "      <td>NaN</td>\n",
       "      <td>발표후</td>\n",
       "    </tr>\n",
       "    <tr>\n",
       "      <th>3613</th>\n",
       "      <td>구래동</td>\n",
       "      <td>Mar.87</td>\n",
       "      <td>NaN</td>\n",
       "      <td>NaN</td>\n",
       "      <td>NaN</td>\n",
       "      <td>NaN</td>\n",
       "      <td>202401</td>\n",
       "      <td>30</td>\n",
       "      <td>46000</td>\n",
       "      <td>2018.0</td>\n",
       "      <td>...</td>\n",
       "      <td>3.0</td>\n",
       "      <td>호반베르디움더레이크3차</td>\n",
       "      <td>84.8559</td>\n",
       "      <td>10.0</td>\n",
       "      <td></td>\n",
       "      <td>중개거래</td>\n",
       "      <td>경기 김포시</td>\n",
       "      <td>NaN</td>\n",
       "      <td>NaN</td>\n",
       "      <td>발표후</td>\n",
       "    </tr>\n",
       "    <tr>\n",
       "      <th>3614</th>\n",
       "      <td>사우동</td>\n",
       "      <td>1481</td>\n",
       "      <td>NaN</td>\n",
       "      <td>NaN</td>\n",
       "      <td>NaN</td>\n",
       "      <td>NaN</td>\n",
       "      <td>202401</td>\n",
       "      <td>31</td>\n",
       "      <td>46800</td>\n",
       "      <td>2018.0</td>\n",
       "      <td>...</td>\n",
       "      <td>0.0</td>\n",
       "      <td>김포사우아이파크</td>\n",
       "      <td>59.9800</td>\n",
       "      <td>19.0</td>\n",
       "      <td></td>\n",
       "      <td>중개거래</td>\n",
       "      <td>경기 김포시</td>\n",
       "      <td>NaN</td>\n",
       "      <td>NaN</td>\n",
       "      <td>발표후</td>\n",
       "    </tr>\n",
       "    <tr>\n",
       "      <th>3615</th>\n",
       "      <td>장기동</td>\n",
       "      <td>2193</td>\n",
       "      <td>NaN</td>\n",
       "      <td>NaN</td>\n",
       "      <td>NaN</td>\n",
       "      <td>NaN</td>\n",
       "      <td>202401</td>\n",
       "      <td>31</td>\n",
       "      <td>42200</td>\n",
       "      <td>2017.0</td>\n",
       "      <td>...</td>\n",
       "      <td>0.0</td>\n",
       "      <td>한강센트럴자이1단지</td>\n",
       "      <td>70.8647</td>\n",
       "      <td>2.0</td>\n",
       "      <td></td>\n",
       "      <td>중개거래</td>\n",
       "      <td>경기 김포시</td>\n",
       "      <td>NaN</td>\n",
       "      <td>NaN</td>\n",
       "      <td>발표후</td>\n",
       "    </tr>\n",
       "  </tbody>\n",
       "</table>\n",
       "<p>3616 rows × 26 columns</p>\n",
       "</div>"
      ],
      "text/plain": [
       "      시군구      번지 주택유형 도로조건  연면적(㎡)  대지면적(㎡)    계약년월  계약일 거래금액(만원)    건축년도  \\\n",
       "0     장기동    1342  NaN  NaN     NaN      NaN  202306    1    38000  2001.0   \n",
       "1     풍무동     795  NaN  NaN     NaN      NaN  202306    1    44000  2018.0   \n",
       "2     장기동  25.Mar  NaN  NaN     NaN      NaN  202306    1     9500  2018.0   \n",
       "3     장기동    1635  NaN  NaN     NaN      NaN  202306    1    41000  2008.0   \n",
       "4     감정동     706  NaN  NaN     NaN      NaN  202306    1    28700  2022.0   \n",
       "...   ...     ...  ...  ...     ...      ...     ...  ...      ...     ...   \n",
       "3611  양촌읍    1268  NaN  NaN     NaN      NaN  202401   30    38500  2020.0   \n",
       "3612  고촌읍    1284  NaN  NaN     NaN      NaN  202401   30    73500  2014.0   \n",
       "3613  구래동  Mar.87  NaN  NaN     NaN      NaN  202401   30    46000  2018.0   \n",
       "3614  사우동    1481  NaN  NaN     NaN      NaN  202401   31    46800  2018.0   \n",
       "3615  장기동    2193  NaN  NaN     NaN      NaN  202401   31    42200  2017.0   \n",
       "\n",
       "      ...   부번              단지명   전용면적(㎡)     층    등기신청일자  거래유형  중개사소재지  건물명  \\\n",
       "0     ...  0.0        청송마을(현대2)  114.1920   4.0  20230602  중개거래  경기 김포시  NaN   \n",
       "1     ...  0.0  김포풍무꿈에그린더포레듀3단지   74.9960  18.0  20230818  중개거래  경기 김포시  NaN   \n",
       "2     ...  3.0         (2025-3)   19.8400   6.0       NaN  중개거래  경기 김포시  NaN   \n",
       "3     ...  0.0      고창마을(이니스더원)  112.0079  10.0  20230627  중개거래  경기 김포시  NaN   \n",
       "4     ...  0.0       김포센트럴헤센2단지   59.9919  17.0  20230717  중개거래  경기 김포시  NaN   \n",
       "...   ...  ...              ...       ...   ...       ...   ...     ...  ...   \n",
       "3611  ...  0.0       한강금호어울림1단지   84.9416  12.0            중개거래  경기 김포시  NaN   \n",
       "3612  ...  0.0       김포고촌우방아이유쉘  149.0920  14.0            중개거래  경기 김포시  NaN   \n",
       "3613  ...  3.0     호반베르디움더레이크3차   84.8559  10.0            중개거래  경기 김포시  NaN   \n",
       "3614  ...  0.0         김포사우아이파크   59.9800  19.0            중개거래  경기 김포시  NaN   \n",
       "3615  ...  0.0       한강센트럴자이1단지   70.8647   2.0            중개거래  경기 김포시  NaN   \n",
       "\n",
       "      대지권면적(㎡)   발표  \n",
       "0          NaN  발표전  \n",
       "1          NaN  발표전  \n",
       "2          NaN  발표전  \n",
       "3          NaN  발표전  \n",
       "4          NaN  발표전  \n",
       "...        ...  ...  \n",
       "3611       NaN  발표후  \n",
       "3612       NaN  발표후  \n",
       "3613       NaN  발표후  \n",
       "3614       NaN  발표후  \n",
       "3615       NaN  발표후  \n",
       "\n",
       "[3616 rows x 26 columns]"
      ]
     },
     "execution_count": 13,
     "metadata": {},
     "output_type": "execute_result"
    }
   ],
   "source": [
    "df_김포"
   ]
  },
  {
   "cell_type": "markdown",
   "id": "007cb6f2-9274-4c49-8583-8a008331e0cc",
   "metadata": {},
   "source": [
    "## 최종 김포 데이터"
   ]
  },
  {
   "cell_type": "code",
   "execution_count": 14,
   "id": "a80f2dd9-6c8f-456b-98db-7efa3e7cdd7d",
   "metadata": {
    "tags": []
   },
   "outputs": [],
   "source": [
    "df_김포.to_csv('data/df_김포.csv',index=False)"
   ]
  },
  {
   "cell_type": "markdown",
   "id": "2449c8f7-f2e8-4bae-9708-2b56f24a3250",
   "metadata": {},
   "source": [
    "# 서울 데이터가공"
   ]
  },
  {
   "cell_type": "code",
   "execution_count": 15,
   "id": "a89f012b-fd11-4feb-90c1-6aac04f06abb",
   "metadata": {
    "tags": []
   },
   "outputs": [],
   "source": [
    "df_서울2023=pd.read_csv('data/real__estimate(2023).csv')\n",
    "df_서울2024=pd.read_csv('data/real__estimate(2024).csv')"
   ]
  },
  {
   "cell_type": "code",
   "execution_count": 16,
   "id": "e502619f-f34c-431c-895c-cca9c28a7e8e",
   "metadata": {
    "tags": []
   },
   "outputs": [],
   "source": [
    "df_서울2023=df_서울2023.loc[df_서울2023['계약일']>20230531,:]"
   ]
  },
  {
   "cell_type": "code",
   "execution_count": 17,
   "id": "b85958b6-874a-4d73-9795-d2e58d7f24f2",
   "metadata": {
    "tags": []
   },
   "outputs": [],
   "source": [
    "df_서울_전처리전=pd.concat([df_서울2023,df_서울2024])"
   ]
  },
  {
   "cell_type": "code",
   "execution_count": 18,
   "id": "c37f5de0-204f-453f-98cc-ae8d3311cea1",
   "metadata": {
    "tags": []
   },
   "outputs": [],
   "source": [
    "df_서울_전처리전=df_서울_전처리전.sort_values(by='계약일', ascending=True, ignore_index=True)"
   ]
  },
  {
   "cell_type": "code",
   "execution_count": 19,
   "id": "a2bca50f-ee3e-4d7e-b969-06dfe8fdfbd4",
   "metadata": {
    "tags": []
   },
   "outputs": [],
   "source": [
    "df_서울_전처리전=df_서울_전처리전.loc[df_서울_전처리전['계약일']>=20230601, :]"
   ]
  },
  {
   "cell_type": "code",
   "execution_count": 20,
   "id": "ecd6679c-8b7a-4258-9860-d2f60eb1d9e8",
   "metadata": {
    "tags": []
   },
   "outputs": [],
   "source": [
    "data_copy=df_서울_전처리전.copy()\n",
    "bins=[20230601,20230701,20230801,20230901,20231001,20231101,20231201,20240101,20240132]\n",
    "labels=[202306,202307,202308,202309,202310,202311,202312,202401]\n",
    "df_서울_전처리전['계약년월']=pd.cut(data_copy['계약일'], bins=bins, labels=labels, right=False)"
   ]
  },
  {
   "cell_type": "code",
   "execution_count": 21,
   "id": "1bf178dd-2913-490c-8076-3524042831c2",
   "metadata": {
    "tags": []
   },
   "outputs": [],
   "source": [
    "df_서울_발표전=df_서울_전처리전.loc[(df_서울_전처리전['계약년월']>=202306) & (df_서울_전처리전['계약년월']<202310), :]\n",
    "df_서울_발표후=df_서울_전처리전.loc[df_서울_전처리전['계약년월']>=202310, :]"
   ]
  },
  {
   "cell_type": "code",
   "execution_count": 22,
   "id": "fe62413b-0720-425f-9f7f-603cc68db90d",
   "metadata": {
    "tags": []
   },
   "outputs": [],
   "source": [
    "df_서울_발표전=df_서울_발표전.assign(발표='발표전').sort_values(by='계약일', ascending=True, ignore_index=True)\n",
    "df_서울_발표후=df_서울_발표후.assign(발표='발표후').sort_values(by='계약일', ascending=True, ignore_index=True)"
   ]
  },
  {
   "cell_type": "code",
   "execution_count": 23,
   "id": "4eefc53e-f8e7-4286-a4dd-cd4059adab6e",
   "metadata": {
    "tags": []
   },
   "outputs": [],
   "source": [
    "df_서울=pd.concat([df_서울_발표전,df_서울_발표후]).sort_values(by='계약일', ascending=True, ignore_index=True)"
   ]
  },
  {
   "cell_type": "markdown",
   "id": "a2279887-a885-4904-b8ca-6d66f9846e20",
   "metadata": {},
   "source": [
    "## 최종 서울 데이터"
   ]
  },
  {
   "cell_type": "code",
   "execution_count": 24,
   "id": "69f09805-2a1f-4549-9086-16f677326b6e",
   "metadata": {
    "tags": []
   },
   "outputs": [],
   "source": [
    "df_서울.to_csv('data/df_서울.csv',index=False)"
   ]
  },
  {
   "cell_type": "code",
   "execution_count": null,
   "id": "faa8449f-93da-471b-9183-ed8750d332ed",
   "metadata": {},
   "outputs": [],
   "source": []
  }
 ],
 "metadata": {
  "kernelspec": {
   "display_name": "Python 3 (ipykernel)",
   "language": "python",
   "name": "python3"
  },
  "language_info": {
   "codemirror_mode": {
    "name": "ipython",
    "version": 3
   },
   "file_extension": ".py",
   "mimetype": "text/x-python",
   "name": "python",
   "nbconvert_exporter": "python",
   "pygments_lexer": "ipython3",
   "version": "3.11.5"
  }
 },
 "nbformat": 4,
 "nbformat_minor": 5
}
